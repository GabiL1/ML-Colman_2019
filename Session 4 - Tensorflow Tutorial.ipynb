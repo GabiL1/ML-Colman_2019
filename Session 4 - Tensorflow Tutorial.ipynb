{
 "cells": [
  {
   "cell_type": "markdown",
   "metadata": {},
   "source": [
    "# Session 4- Tensorflow Tutorial"
   ]
  },
  {
   "cell_type": "markdown",
   "metadata": {},
   "source": [
    "## What is Tensorflow"
   ]
  },
  {
   "cell_type": "markdown",
   "metadata": {},
   "source": [
    "TensorFlow is an open source software library for numerical computation using data flow graphs. We will demonstrate how to define and train neural network models for multi-class classification problems.\n",
    "\n",
    "In this tutorial, we will train:\n",
    "\n",
    "- One-Hidden Layer Neural Network Model"
   ]
  },
  {
   "cell_type": "markdown",
   "metadata": {},
   "source": [
    "## Back to MNIST"
   ]
  },
  {
   "cell_type": "markdown",
   "metadata": {},
   "source": [
    "The following code will import and download the MNIST dataset."
   ]
  },
  {
   "cell_type": "code",
   "execution_count": 6,
   "metadata": {},
   "outputs": [],
   "source": [
    "import tensorflow as tf\n",
    "\n",
    "mnist = tf.keras.datasets.mnist # 28x28 images of hand-written digits 0-9\n",
    "\n",
    "(x_train, y_train),(x_test, y_test) = mnist.load_data()"
   ]
  },
  {
   "cell_type": "code",
   "execution_count": 4,
   "metadata": {},
   "outputs": [
    {
     "name": "stdout",
     "output_type": "stream",
     "text": [
      "60000 10000\n",
      "(60000, 28, 28) (60000,)\n",
      "0 255\n"
     ]
    },
    {
     "data": {
      "text/plain": [
       "<matplotlib.image.AxesImage at 0x25e7fb3ab00>"
      ]
     },
     "execution_count": 4,
     "metadata": {},
     "output_type": "execute_result"
    },
    {
     "data": {
      "image/png": "[encoded data removed]",
      "text/plain": [
       "<Figure size 432x288 with 1 Axes>"
      ]
     },
     "metadata": {
      "needs_background": "light"
     },
     "output_type": "display_data"
    }
   ],
   "source": [
    "import numpy as np\n",
    "import matplotlib.pyplot as plt\n",
    "\n",
    "%matplotlib inline\n",
    "# mnist is now a DataSet with accessors for:\n",
    "#'train' and 'test'\n",
    "# within each, we can access:\n",
    "# images, labels, and num_examples\n",
    "print(len(x_train),\n",
    "      len(x_test))\n",
    "\n",
    "# the images are stored as:\n",
    "# n_observations x 28 x 28\n",
    "# the labels are stored as n_observations\n",
    "print(x_train.shape, y_train.shape)\n",
    "\n",
    "# the range of the values of the images is from 0-255\n",
    "print(np.min(x_train), np.max(x_train))\n",
    "\n",
    "# we can visualize any one of the images by reshaping it to a 28x28 image\n",
    "plt.imshow(x_train[0], cmap='gray')"
   ]
  },
  {
   "cell_type": "markdown",
   "metadata": {},
   "source": [
    "Logistic regression is a linear model. It solves the same problem that the perceptron algorithm solves - finding a linear seperator for our data."
   ]
  },
  {
   "cell_type": "markdown",
   "metadata": {},
   "source": [
    "First, we must normalize the images:"
   ]
  },
  {
   "cell_type": "code",
   "execution_count": 7,
   "metadata": {},
   "outputs": [],
   "source": [
    "x_train = x_train / 255.0\n",
    "\n",
    "x_test = x_test / 255.0"
   ]
  },
  {
   "cell_type": "markdown",
   "metadata": {},
   "source": [
    "Next, let us define our model, it's pretty basic.\n",
    "<br>\n",
    "It will contain a single layer with a __Softmax activation function__"
   ]
  },
  {
   "cell_type": "code",
   "execution_count": 54,
   "metadata": {},
   "outputs": [],
   "source": [
    "from tensorflow import keras\n",
    "#Building the model\n",
    "model = tf.keras.models.Sequential()    # Creating a Sequential network (FeedForward)\n",
    "model.add(tf.keras.layers.Flatten())    # Flatting the image from a 28x28 to a 784x1 column\n",
    "model.add(tf.keras.layers.Dense(10, activation=tf.nn.softmax))   # Creating an output layer with 10 neurones and with an softmax for probability distibution"
   ]
  },
  {
   "cell_type": "markdown",
   "metadata": {},
   "source": [
    "Recall we need to minimize some loss/cost function.\n",
    "In our case this function is called cross-entropy (or negative log likelihood for the one-hot case)\n",
    "\n",
    "This is how to looks like:\n",
    "$${-}\\sum_{i=0}^{n} {y_i} * log(y'_i)$$\n",
    "where $y_i$ is the true label and $y'_i$ is the model's prediction.\n",
    "\n",
    "To optimize, we will use a technique called __Stochastic Gradient Descent__"
   ]
  },
  {
   "cell_type": "code",
   "execution_count": 55,
   "metadata": {},
   "outputs": [],
   "source": [
    "from keras import optimizers\n",
    "from keras import losses\n",
    "\n",
    "model.compile(optimizer='sgd',\n",
    "              loss=losses.sparse_categorical_crossentropy,\n",
    "              metrics=['accuracy'])"
   ]
  },
  {
   "cell_type": "markdown",
   "metadata": {},
   "source": [
    "## Fitting the model with the training data"
   ]
  },
  {
   "cell_type": "markdown",
   "metadata": {},
   "source": [
    "We would like to observe the loss function values throught the training process.\n",
    "<br>\n",
    "This is why we will create a callback to store the loss and accuracy function values:"
   ]
  },
  {
   "cell_type": "code",
   "execution_count": 56,
   "metadata": {},
   "outputs": [],
   "source": [
    "class LossAccHistory(keras.callbacks.Callback):\n",
    "    def on_train_begin(self, logs={}):\n",
    "        self.losses = []\n",
    "        self.accuracy = []\n",
    "\n",
    "    def on_batch_end(self, batch, logs={}):\n",
    "        self.losses.append(logs.get('loss'))\n",
    "        self.accuracy.append(logs.get('acc'))"
   ]
  },
  {
   "cell_type": "markdown",
   "metadata": {},
   "source": [
    "We will add the callback to the model's fitting"
   ]
  },
  {
   "cell_type": "code",
   "execution_count": 57,
   "metadata": {},
   "outputs": [
    {
     "name": "stdout",
     "output_type": "stream",
     "text": [
      "Train on 54000 samples, validate on 6000 samples\n",
      "Epoch 1/10\n",
      "54000/54000 [==============================] - 2s 36us/step - loss: 1.2161 - acc: 0.1134 - val_loss: 0.7128 - val_acc: 0.0988\n",
      "Epoch 2/10\n",
      "54000/54000 [==============================] - 2s 34us/step - loss: 0.6876 - acc: 0.1023 - val_loss: 0.5260 - val_acc: 0.0985\n",
      "Epoch 3/10\n",
      "54000/54000 [==============================] - 2s 33us/step - loss: 0.5702 - acc: 0.1019 - val_loss: 0.4527 - val_acc: 0.0973\n",
      "Epoch 4/10\n",
      "54000/54000 [==============================] - 1s 27us/step - loss: 0.5133 - acc: 0.1016 - val_loss: 0.4122 - val_acc: 0.0972\n",
      "Epoch 5/10\n",
      "54000/54000 [==============================] - 1s 28us/step - loss: 0.4783 - acc: 0.1016 - val_loss: 0.3859 - val_acc: 0.0975\n",
      "Epoch 6/10\n",
      "54000/54000 [==============================] - 1s 27us/step - loss: 0.4541 - acc: 0.1014 - val_loss: 0.3673 - val_acc: 0.0980\n",
      "Epoch 7/10\n",
      "54000/54000 [==============================] - 1s 28us/step - loss: 0.4360 - acc: 0.1012 - val_loss: 0.3536 - val_acc: 0.0983\n",
      "Epoch 8/10\n",
      "54000/54000 [==============================] - 2s 29us/step - loss: 0.4219 - acc: 0.1013 - val_loss: 0.3428 - val_acc: 0.0982\n",
      "Epoch 9/10\n",
      "54000/54000 [==============================] - 1s 27us/step - loss: 0.4105 - acc: 0.1011 - val_loss: 0.3337 - val_acc: 0.0983\n",
      "Epoch 10/10\n",
      "54000/54000 [==============================] - 1s 27us/step - loss: 0.4010 - acc: 0.1011 - val_loss: 0.3264 - val_acc: 0.0985\n"
     ]
    },
    {
     "data": {
      "text/plain": [
       "<tensorflow.python.keras.callbacks.History at 0x25e05a4cc50>"
      ]
     },
     "execution_count": 57,
     "metadata": {},
     "output_type": "execute_result"
    }
   ],
   "source": [
    "n_epochs = 10\n",
    "batch_size = 100\n",
    "\n",
    "history = LossAccHistory()\n",
    "model.fit(x_train, y_train, validation_split=0.1, shuffle=True, \n",
    "          epochs=n_epochs, batch_size=batch_size,\n",
    "          callbacks=[history])   #Trainning the model with the data"
   ]
  },
  {
   "cell_type": "markdown",
   "metadata": {},
   "source": [
    "Let us evaluate The accuracy and the loss of the model:"
   ]
  },
  {
   "cell_type": "code",
   "execution_count": 58,
   "metadata": {},
   "outputs": [
    {
     "data": {
      "text/plain": [
       "<matplotlib.legend.Legend at 0x25e06004d30>"
      ]
     },
     "execution_count": 58,
     "metadata": {},
     "output_type": "execute_result"
    },
    {
     "data": {
      "image/png": "[encoded data removed]",
      "text/plain": [
       "<Figure size 432x288 with 1 Axes>"
      ]
     },
     "metadata": {
      "needs_background": "light"
     },
     "output_type": "display_data"
    }
   ],
   "source": [
    "import matplotlib.pyplot as plt\n",
    "x = range(0, len(history.losses))\n",
    "plt.plot(x, history.losses)\n",
    "plt.plot(x, history.accuracy)\n",
    "plt.xlabel('epochs')\n",
    "plt.title('Loss and Accuracy')\n",
    "plt.legend(['losses', 'accuracy'])"
   ]
  },
  {
   "cell_type": "markdown",
   "metadata": {},
   "source": [
    "## But Wait..."
   ]
  },
  {
   "cell_type": "markdown",
   "metadata": {},
   "source": [
    "This is our accuracy on the validation set! What we really want to know is how we performed on the test set:"
   ]
  },
  {
   "cell_type": "code",
   "execution_count": 61,
   "metadata": {},
   "outputs": [
    {
     "name": "stdout",
     "output_type": "stream",
     "text": [
      "10000/10000 [==============================] - 0s 46us/step\n",
      "Test accuracy: 0.1027\n"
     ]
    }
   ],
   "source": [
    "test_loss, test_acc = model.evaluate(x_test, y_test)\n",
    "\n",
    "print('Test accuracy:', test_acc)"
   ]
  },
  {
   "cell_type": "markdown",
   "metadata": {},
   "source": [
    "## Adding Layers"
   ]
  },
  {
   "cell_type": "markdown",
   "metadata": {},
   "source": [
    "So what we have so far is a linear model, basically 1 layer.\n",
    "\n",
    "Why not add a hidden layer?\n",
    "\n",
    "Next, we will implement a model called MLP (Multi Layer Perceptron). It will have the following structure:\n",
    "- Input layer (784)\n",
    "- Hidden layer (256)\n",
    "- Output layer (10)"
   ]
  },
  {
   "cell_type": "code",
   "execution_count": 65,
   "metadata": {},
   "outputs": [],
   "source": [
    "model = tf.keras.models.Sequential()    # Creating a Sequential network (FeedForward)\n",
    "model.add(tf.keras.layers.Flatten())    # Flatting the image from a 28x28 to a 784x1 column\n",
    "model.add(tf.keras.layers.Dense(256, activation=tf.nn.relu))   # Creating a fully connected layer With 128 neurons with ReLu activation function\n",
    "model.add(tf.keras.layers.Dense(10, activation=tf.nn.softmax))   # Creating an output layer with 10 neurones and with an softmax for probability distibution"
   ]
  },
  {
   "cell_type": "markdown",
   "metadata": {},
   "source": [
    "Let us define the model, this time using a hidden kayer with a relu activation function\n",
    "- Why use non-linearities? (combining linear function yields a linear function)\n",
    "- Other options for activation functions? (sigmoid, tanh, etc.)"
   ]
  },
  {
   "cell_type": "markdown",
   "metadata": {},
   "source": [
    "Now lets use a different optimization technique, instead of using __Stochastic Gradient Descent__ let us use a method called __ADAM__ (it is a varient of SGD, only with different learning rates for each dimension)."
   ]
  },
  {
   "cell_type": "code",
   "execution_count": 67,
   "metadata": {},
   "outputs": [],
   "source": [
    "model.compile(optimizer='adam',\n",
    "              loss='sparse_categorical_crossentropy',\n",
    "              metrics=['accuracy'])"
   ]
  },
  {
   "cell_type": "markdown",
   "metadata": {},
   "source": [
    "## Putting it All Together"
   ]
  },
  {
   "cell_type": "code",
   "execution_count": 76,
   "metadata": {},
   "outputs": [
    {
     "name": "stdout",
     "output_type": "stream",
     "text": [
      "Train on 54000 samples, validate on 6000 samples\n",
      "Epoch 1/10\n",
      "54000/54000 [==============================] - 4s 73us/step - loss: 5.0715e-04 - acc: 1.0000 - val_loss: 0.0876 - val_acc: 0.9855\n",
      "Epoch 2/10\n",
      "54000/54000 [==============================] - 4s 73us/step - loss: 1.7626e-04 - acc: 1.0000 - val_loss: 0.0884 - val_acc: 0.9853\n",
      "Epoch 3/10\n",
      "54000/54000 [==============================] - 4s 70us/step - loss: 1.3085e-04 - acc: 1.0000 - val_loss: 0.0872 - val_acc: 0.9850\n",
      "Epoch 4/10\n",
      "54000/54000 [==============================] - 4s 71us/step - loss: 1.0826e-04 - acc: 1.0000 - val_loss: 0.0873 - val_acc: 0.9850\n",
      "Epoch 5/10\n",
      "54000/54000 [==============================] - 4s 72us/step - loss: 9.1528e-05 - acc: 1.0000 - val_loss: 0.0886 - val_acc: 0.9847\n",
      "Epoch 6/10\n",
      "54000/54000 [==============================] - 4s 69us/step - loss: 7.8479e-05 - acc: 1.0000 - val_loss: 0.0887 - val_acc: 0.9850\n",
      "Epoch 7/10\n",
      "54000/54000 [==============================] - 4s 71us/step - loss: 6.6711e-05 - acc: 1.0000 - val_loss: 0.0887 - val_acc: 0.9857\n",
      "Epoch 8/10\n",
      "54000/54000 [==============================] - 4s 70us/step - loss: 5.7079e-05 - acc: 1.0000 - val_loss: 0.0888 - val_acc: 0.9857\n",
      "Epoch 9/10\n",
      "54000/54000 [==============================] - 4s 70us/step - loss: 4.9667e-05 - acc: 1.0000 - val_loss: 0.0902 - val_acc: 0.9858\n",
      "Epoch 10/10\n",
      "54000/54000 [==============================] - 4s 73us/step - loss: 4.3585e-05 - acc: 1.0000 - val_loss: 0.0901 - val_acc: 0.9858\n"
     ]
    },
    {
     "data": {
      "text/plain": [
       "<tensorflow.python.keras.callbacks.History at 0x25e1fed8518>"
      ]
     },
     "execution_count": 76,
     "metadata": {},
     "output_type": "execute_result"
    }
   ],
   "source": [
    "class EpochLossAccHistory(keras.callbacks.Callback):\n",
    "    def on_train_begin(self, logs={}):\n",
    "        self.losses = []\n",
    "        self.accuracy = []\n",
    "\n",
    "    def on_epoch_end(self, epoch, logs={}):\n",
    "        self.losses.append(logs.get('loss'))\n",
    "        self.accuracy.append(logs.get('acc'))\n",
    "        \n",
    "n_epochs = 10\n",
    "batch_size = 100\n",
    "\n",
    "history = EpochLossAccHistory()\n",
    "model.fit(x_train, y_train, validation_split=0.1, shuffle=True, \n",
    "          epochs=n_epochs, batch_size=batch_size,\n",
    "          callbacks=[history])   #Trainning the model with the data"
   ]
  },
  {
   "cell_type": "markdown",
   "metadata": {},
   "source": [
    "We have an accuracy of 99% on the train data!\n",
    "<br>\n",
    "__WOW!__"
   ]
  },
  {
   "cell_type": "markdown",
   "metadata": {},
   "source": [
    "## Cool. Lets See Some Results"
   ]
  },
  {
   "cell_type": "code",
   "execution_count": 77,
   "metadata": {},
   "outputs": [
    {
     "data": {
      "text/plain": [
       "<matplotlib.legend.Legend at 0x25e1fef3ac8>"
      ]
     },
     "execution_count": 77,
     "metadata": {},
     "output_type": "execute_result"
    },
    {
     "data": {
      "image/png": "[encoded data removed]",
      "text/plain": [
       "<Figure size 432x288 with 1 Axes>"
      ]
     },
     "metadata": {
      "needs_background": "light"
     },
     "output_type": "display_data"
    }
   ],
   "source": [
    "import matplotlib.pyplot as plt\n",
    "x = range(0, len(history.losses))\n",
    "plt.plot(x, history.losses)\n",
    "plt.plot(x, history.accuracy)\n",
    "plt.xlabel('epochs')\n",
    "plt.title('Loss and Accuracy')\n",
    "plt.legend(['losses', 'accuracy'])"
   ]
  },
  {
   "cell_type": "markdown",
   "metadata": {},
   "source": [
    "## Test Set"
   ]
  },
  {
   "cell_type": "code",
   "execution_count": 78,
   "metadata": {},
   "outputs": [
    {
     "name": "stdout",
     "output_type": "stream",
     "text": [
      "10000/10000 [==============================] - 1s 53us/step\n",
      "Test accuracy: 0.9824\n"
     ]
    }
   ],
   "source": [
    "test_loss, test_acc = model.evaluate(x_test, y_test)\n",
    "\n",
    "print('Test accuracy:', test_acc)"
   ]
  },
  {
   "cell_type": "markdown",
   "metadata": {},
   "source": [
    "This is much better right? "
   ]
  },
  {
   "cell_type": "markdown",
   "metadata": {},
   "source": [
    "# Your Turn\n",
    "Now that you have seen how to build simple models it's your turn to experiment.\n",
    "\n",
    "Train an MLP.\n",
    "\n",
    "Follow the instuctions in the following link:"
   ]
  },
  {
   "cell_type": "code",
   "execution_count": null,
   "metadata": {},
   "outputs": [],
   "source": [
    "https://www.tensorflow.org/tutorials/keras/basic_classification"
   ]
  }
 ],
 "metadata": {
  "kernelspec": {
   "display_name": "Python 3",
   "language": "python",
   "name": "python3"
  },
  "language_info": {
   "codemirror_mode": {
    "name": "ipython",
    "version": 3
   },
   "file_extension": ".py",
   "mimetype": "text/x-python",
   "name": "python",
   "nbconvert_exporter": "python",
   "pygments_lexer": "ipython3",
   "version": "3.6.6"
  }
 },
 "nbformat": 4,
 "nbformat_minor": 2
}
